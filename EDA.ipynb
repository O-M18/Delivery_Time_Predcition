{
 "cells": [
  {
   "cell_type": "markdown",
   "id": "f30ead86",
   "metadata": {},
   "source": [
    "# Project title :- Amazon time predcition\n"
   ]
  },
  {
   "cell_type": "markdown",
   "id": "20a891e0",
   "metadata": {},
   "source": [
    "### Type - EDA"
   ]
  },
  {
   "cell_type": "markdown",
   "id": "ffae1a55",
   "metadata": {},
   "source": [
    "### GitHub Link - https://github.com/O-M18/Delivery_Time_Predcition"
   ]
  },
  {
   "cell_type": "markdown",
   "id": "a27601a6",
   "metadata": {},
   "source": [
    "## Project Summary"
   ]
  },
  {
   "cell_type": "markdown",
   "id": "17413b62",
   "metadata": {},
   "source": [
    "\n",
    "\n",
    "The Delivery Time Prediction App is a web-based application built using Streamlit and machine learning to accurately estimate delivery times for orders. The app integrates multiple features, including agent details (age and rating), vehicle type, traffic conditions, weather, order category, and geographic coordinates of the store and delivery location. It also calculates key operational metrics, such as the distance between the store and the drop location and the time to pickup, which are critical inputs for predicting delivery duration.\n",
    "\n",
    "The underlying predictive model is based on XGBoost, chosen for its accuracy and ability to handle numerical and categorical features efficiently. Once the user inputs all necessary details, the app provides a real-time prediction of delivery time, displayed in an intuitive dashboard-style interface. Users can view results through interactive mini-cards for metrics like distance and pickup time, while the predicted delivery time is highlighted in an animated pop-out card for enhanced visibility.\n",
    "\n",
    "This project addresses a critical need in the logistics and e-commerce industry. Accurate delivery predictions enable businesses to optimize routes, allocate resources effectively, and provide customers with reliable time estimates. By improving operational efficiency and customer satisfaction, it supports data-driven decision-making and enhances the overall delivery experience. The app’s modern, professional interface ensures that both managers and staff can quickly interpret key metrics and predictions. Its scalable design allows for easy integration into web platforms, internal dashboards, or mobile applications, making it a versatile tool for modern delivery operations"
   ]
  },
  {
   "cell_type": "markdown",
   "id": "2dad770f",
   "metadata": {},
   "source": [
    "#### Load all necessary libraries"
   ]
  },
  {
   "cell_type": "code",
   "execution_count": 2,
   "id": "11bd4fb2",
   "metadata": {},
   "outputs": [],
   "source": [
    "# import libraries\n",
    "import pandas as pd\n",
    "import numpy as np\n",
    "import seaborn as sns\n",
    "import matplotlib.pyplot as plt\n",
    "\n",
    "pd.set_option('display.max_columns',None)"
   ]
  },
  {
   "cell_type": "markdown",
   "id": "50facca7",
   "metadata": {},
   "source": [
    "#### Load dataset"
   ]
  },
  {
   "cell_type": "code",
   "execution_count": 2,
   "id": "8684247c",
   "metadata": {},
   "outputs": [],
   "source": [
    "# load data into dataframe format\n",
    "df=pd.read_csv(r'amazon_delivery.csv')"
   ]
  },
  {
   "cell_type": "markdown",
   "id": "b413c369",
   "metadata": {},
   "source": [
    "#### Read data "
   ]
  },
  {
   "cell_type": "code",
   "execution_count": 3,
   "id": "6036361e",
   "metadata": {},
   "outputs": [
    {
     "data": {
      "text/html": [
       "<div>\n",
       "<style scoped>\n",
       "    .dataframe tbody tr th:only-of-type {\n",
       "        vertical-align: middle;\n",
       "    }\n",
       "\n",
       "    .dataframe tbody tr th {\n",
       "        vertical-align: top;\n",
       "    }\n",
       "\n",
       "    .dataframe thead th {\n",
       "        text-align: right;\n",
       "    }\n",
       "</style>\n",
       "<table border=\"1\" class=\"dataframe\">\n",
       "  <thead>\n",
       "    <tr style=\"text-align: right;\">\n",
       "      <th></th>\n",
       "      <th>Order_ID</th>\n",
       "      <th>Agent_Age</th>\n",
       "      <th>Agent_Rating</th>\n",
       "      <th>Store_Latitude</th>\n",
       "      <th>Store_Longitude</th>\n",
       "      <th>Drop_Latitude</th>\n",
       "      <th>Drop_Longitude</th>\n",
       "      <th>Order_Date</th>\n",
       "      <th>Order_Time</th>\n",
       "      <th>Pickup_Time</th>\n",
       "      <th>Weather</th>\n",
       "      <th>Traffic</th>\n",
       "      <th>Vehicle</th>\n",
       "      <th>Area</th>\n",
       "      <th>Delivery_Time</th>\n",
       "      <th>Category</th>\n",
       "    </tr>\n",
       "  </thead>\n",
       "  <tbody>\n",
       "    <tr>\n",
       "      <th>0</th>\n",
       "      <td>ialx566343618</td>\n",
       "      <td>37</td>\n",
       "      <td>4.9</td>\n",
       "      <td>22.745049</td>\n",
       "      <td>75.892471</td>\n",
       "      <td>22.765049</td>\n",
       "      <td>75.912471</td>\n",
       "      <td>2022-03-19</td>\n",
       "      <td>11:30:00</td>\n",
       "      <td>11:45:00</td>\n",
       "      <td>Sunny</td>\n",
       "      <td>High</td>\n",
       "      <td>motorcycle</td>\n",
       "      <td>Urban</td>\n",
       "      <td>120</td>\n",
       "      <td>Clothing</td>\n",
       "    </tr>\n",
       "    <tr>\n",
       "      <th>1</th>\n",
       "      <td>akqg208421122</td>\n",
       "      <td>34</td>\n",
       "      <td>4.5</td>\n",
       "      <td>12.913041</td>\n",
       "      <td>77.683237</td>\n",
       "      <td>13.043041</td>\n",
       "      <td>77.813237</td>\n",
       "      <td>2022-03-25</td>\n",
       "      <td>19:45:00</td>\n",
       "      <td>19:50:00</td>\n",
       "      <td>Stormy</td>\n",
       "      <td>Jam</td>\n",
       "      <td>scooter</td>\n",
       "      <td>Metropolitian</td>\n",
       "      <td>165</td>\n",
       "      <td>Electronics</td>\n",
       "    </tr>\n",
       "    <tr>\n",
       "      <th>2</th>\n",
       "      <td>njpu434582536</td>\n",
       "      <td>23</td>\n",
       "      <td>4.4</td>\n",
       "      <td>12.914264</td>\n",
       "      <td>77.678400</td>\n",
       "      <td>12.924264</td>\n",
       "      <td>77.688400</td>\n",
       "      <td>2022-03-19</td>\n",
       "      <td>08:30:00</td>\n",
       "      <td>08:45:00</td>\n",
       "      <td>Sandstorms</td>\n",
       "      <td>Low</td>\n",
       "      <td>motorcycle</td>\n",
       "      <td>Urban</td>\n",
       "      <td>130</td>\n",
       "      <td>Sports</td>\n",
       "    </tr>\n",
       "    <tr>\n",
       "      <th>3</th>\n",
       "      <td>rjto796129700</td>\n",
       "      <td>38</td>\n",
       "      <td>4.7</td>\n",
       "      <td>11.003669</td>\n",
       "      <td>76.976494</td>\n",
       "      <td>11.053669</td>\n",
       "      <td>77.026494</td>\n",
       "      <td>2022-04-05</td>\n",
       "      <td>18:00:00</td>\n",
       "      <td>18:10:00</td>\n",
       "      <td>Sunny</td>\n",
       "      <td>Medium</td>\n",
       "      <td>motorcycle</td>\n",
       "      <td>Metropolitian</td>\n",
       "      <td>105</td>\n",
       "      <td>Cosmetics</td>\n",
       "    </tr>\n",
       "    <tr>\n",
       "      <th>4</th>\n",
       "      <td>zguw716275638</td>\n",
       "      <td>32</td>\n",
       "      <td>4.6</td>\n",
       "      <td>12.972793</td>\n",
       "      <td>80.249982</td>\n",
       "      <td>13.012793</td>\n",
       "      <td>80.289982</td>\n",
       "      <td>2022-03-26</td>\n",
       "      <td>13:30:00</td>\n",
       "      <td>13:45:00</td>\n",
       "      <td>Cloudy</td>\n",
       "      <td>High</td>\n",
       "      <td>scooter</td>\n",
       "      <td>Metropolitian</td>\n",
       "      <td>150</td>\n",
       "      <td>Toys</td>\n",
       "    </tr>\n",
       "    <tr>\n",
       "      <th>5</th>\n",
       "      <td>fxuu788413734</td>\n",
       "      <td>22</td>\n",
       "      <td>4.8</td>\n",
       "      <td>17.431668</td>\n",
       "      <td>78.408321</td>\n",
       "      <td>17.461668</td>\n",
       "      <td>78.438321</td>\n",
       "      <td>2022-03-11</td>\n",
       "      <td>21:20:00</td>\n",
       "      <td>21:30:00</td>\n",
       "      <td>Cloudy</td>\n",
       "      <td>Jam</td>\n",
       "      <td>motorcycle</td>\n",
       "      <td>Urban</td>\n",
       "      <td>130</td>\n",
       "      <td>Toys</td>\n",
       "    </tr>\n",
       "    <tr>\n",
       "      <th>6</th>\n",
       "      <td>njmo150975311</td>\n",
       "      <td>33</td>\n",
       "      <td>4.7</td>\n",
       "      <td>23.369746</td>\n",
       "      <td>85.339820</td>\n",
       "      <td>23.479746</td>\n",
       "      <td>85.449820</td>\n",
       "      <td>2022-03-04</td>\n",
       "      <td>19:15:00</td>\n",
       "      <td>19:30:00</td>\n",
       "      <td>Fog</td>\n",
       "      <td>Jam</td>\n",
       "      <td>scooter</td>\n",
       "      <td>Metropolitian</td>\n",
       "      <td>200</td>\n",
       "      <td>Toys</td>\n",
       "    </tr>\n",
       "    <tr>\n",
       "      <th>7</th>\n",
       "      <td>jvjc772545076</td>\n",
       "      <td>35</td>\n",
       "      <td>4.6</td>\n",
       "      <td>12.352058</td>\n",
       "      <td>76.606650</td>\n",
       "      <td>12.482058</td>\n",
       "      <td>76.736650</td>\n",
       "      <td>2022-03-14</td>\n",
       "      <td>17:25:00</td>\n",
       "      <td>17:30:00</td>\n",
       "      <td>Cloudy</td>\n",
       "      <td>Medium</td>\n",
       "      <td>motorcycle</td>\n",
       "      <td>Metropolitian</td>\n",
       "      <td>160</td>\n",
       "      <td>Snacks</td>\n",
       "    </tr>\n",
       "    <tr>\n",
       "      <th>8</th>\n",
       "      <td>uaeb808891380</td>\n",
       "      <td>22</td>\n",
       "      <td>4.8</td>\n",
       "      <td>17.433809</td>\n",
       "      <td>78.386744</td>\n",
       "      <td>17.563809</td>\n",
       "      <td>78.516744</td>\n",
       "      <td>2022-03-20</td>\n",
       "      <td>20:55:00</td>\n",
       "      <td>21:05:00</td>\n",
       "      <td>Stormy</td>\n",
       "      <td>Jam</td>\n",
       "      <td>motorcycle</td>\n",
       "      <td>Metropolitian</td>\n",
       "      <td>170</td>\n",
       "      <td>Electronics</td>\n",
       "    </tr>\n",
       "    <tr>\n",
       "      <th>9</th>\n",
       "      <td>bgvc052754213</td>\n",
       "      <td>36</td>\n",
       "      <td>4.2</td>\n",
       "      <td>30.327968</td>\n",
       "      <td>78.046106</td>\n",
       "      <td>30.397968</td>\n",
       "      <td>78.116106</td>\n",
       "      <td>2022-02-12</td>\n",
       "      <td>21:55:00</td>\n",
       "      <td>22:10:00</td>\n",
       "      <td>Fog</td>\n",
       "      <td>Jam</td>\n",
       "      <td>motorcycle</td>\n",
       "      <td>Metropolitian</td>\n",
       "      <td>230</td>\n",
       "      <td>Toys</td>\n",
       "    </tr>\n",
       "  </tbody>\n",
       "</table>\n",
       "</div>"
      ],
      "text/plain": [
       "        Order_ID  Agent_Age  Agent_Rating  Store_Latitude  Store_Longitude  \\\n",
       "0  ialx566343618         37           4.9       22.745049        75.892471   \n",
       "1  akqg208421122         34           4.5       12.913041        77.683237   \n",
       "2  njpu434582536         23           4.4       12.914264        77.678400   \n",
       "3  rjto796129700         38           4.7       11.003669        76.976494   \n",
       "4  zguw716275638         32           4.6       12.972793        80.249982   \n",
       "5  fxuu788413734         22           4.8       17.431668        78.408321   \n",
       "6  njmo150975311         33           4.7       23.369746        85.339820   \n",
       "7  jvjc772545076         35           4.6       12.352058        76.606650   \n",
       "8  uaeb808891380         22           4.8       17.433809        78.386744   \n",
       "9  bgvc052754213         36           4.2       30.327968        78.046106   \n",
       "\n",
       "   Drop_Latitude  Drop_Longitude  Order_Date Order_Time Pickup_Time  \\\n",
       "0      22.765049       75.912471  2022-03-19   11:30:00    11:45:00   \n",
       "1      13.043041       77.813237  2022-03-25   19:45:00    19:50:00   \n",
       "2      12.924264       77.688400  2022-03-19   08:30:00    08:45:00   \n",
       "3      11.053669       77.026494  2022-04-05   18:00:00    18:10:00   \n",
       "4      13.012793       80.289982  2022-03-26   13:30:00    13:45:00   \n",
       "5      17.461668       78.438321  2022-03-11   21:20:00    21:30:00   \n",
       "6      23.479746       85.449820  2022-03-04   19:15:00    19:30:00   \n",
       "7      12.482058       76.736650  2022-03-14   17:25:00    17:30:00   \n",
       "8      17.563809       78.516744  2022-03-20   20:55:00    21:05:00   \n",
       "9      30.397968       78.116106  2022-02-12   21:55:00    22:10:00   \n",
       "\n",
       "      Weather  Traffic      Vehicle            Area  Delivery_Time  \\\n",
       "0       Sunny    High   motorcycle           Urban             120   \n",
       "1      Stormy     Jam      scooter   Metropolitian             165   \n",
       "2  Sandstorms     Low   motorcycle           Urban             130   \n",
       "3       Sunny  Medium   motorcycle   Metropolitian             105   \n",
       "4      Cloudy    High      scooter   Metropolitian             150   \n",
       "5      Cloudy     Jam   motorcycle           Urban             130   \n",
       "6         Fog     Jam      scooter   Metropolitian             200   \n",
       "7      Cloudy  Medium   motorcycle   Metropolitian             160   \n",
       "8      Stormy     Jam   motorcycle   Metropolitian             170   \n",
       "9         Fog     Jam   motorcycle   Metropolitian             230   \n",
       "\n",
       "      Category  \n",
       "0     Clothing  \n",
       "1  Electronics  \n",
       "2       Sports  \n",
       "3    Cosmetics  \n",
       "4         Toys  \n",
       "5         Toys  \n",
       "6         Toys  \n",
       "7       Snacks  \n",
       "8  Electronics  \n",
       "9         Toys  "
      ]
     },
     "execution_count": 3,
     "metadata": {},
     "output_type": "execute_result"
    }
   ],
   "source": [
    "# first 10 records of dataset\n",
    "df.head(10)"
   ]
  },
  {
   "cell_type": "code",
   "execution_count": 4,
   "id": "14f9972d",
   "metadata": {},
   "outputs": [
    {
     "data": {
      "text/html": [
       "<div>\n",
       "<style scoped>\n",
       "    .dataframe tbody tr th:only-of-type {\n",
       "        vertical-align: middle;\n",
       "    }\n",
       "\n",
       "    .dataframe tbody tr th {\n",
       "        vertical-align: top;\n",
       "    }\n",
       "\n",
       "    .dataframe thead th {\n",
       "        text-align: right;\n",
       "    }\n",
       "</style>\n",
       "<table border=\"1\" class=\"dataframe\">\n",
       "  <thead>\n",
       "    <tr style=\"text-align: right;\">\n",
       "      <th></th>\n",
       "      <th>Order_ID</th>\n",
       "      <th>Agent_Age</th>\n",
       "      <th>Agent_Rating</th>\n",
       "      <th>Store_Latitude</th>\n",
       "      <th>Store_Longitude</th>\n",
       "      <th>Drop_Latitude</th>\n",
       "      <th>Drop_Longitude</th>\n",
       "      <th>Order_Date</th>\n",
       "      <th>Order_Time</th>\n",
       "      <th>Pickup_Time</th>\n",
       "      <th>Weather</th>\n",
       "      <th>Traffic</th>\n",
       "      <th>Vehicle</th>\n",
       "      <th>Area</th>\n",
       "      <th>Delivery_Time</th>\n",
       "      <th>Category</th>\n",
       "    </tr>\n",
       "  </thead>\n",
       "  <tbody>\n",
       "    <tr>\n",
       "      <th>43729</th>\n",
       "      <td>llbw528617620</td>\n",
       "      <td>36</td>\n",
       "      <td>4.8</td>\n",
       "      <td>12.310972</td>\n",
       "      <td>76.659264</td>\n",
       "      <td>12.440972</td>\n",
       "      <td>76.789264</td>\n",
       "      <td>2022-03-18</td>\n",
       "      <td>21:10:00</td>\n",
       "      <td>21:20:00</td>\n",
       "      <td>Sunny</td>\n",
       "      <td>Jam</td>\n",
       "      <td>van</td>\n",
       "      <td>Urban</td>\n",
       "      <td>145</td>\n",
       "      <td>Sports</td>\n",
       "    </tr>\n",
       "    <tr>\n",
       "      <th>43730</th>\n",
       "      <td>spgc082793916</td>\n",
       "      <td>37</td>\n",
       "      <td>4.8</td>\n",
       "      <td>13.022394</td>\n",
       "      <td>80.242439</td>\n",
       "      <td>13.042394</td>\n",
       "      <td>80.262439</td>\n",
       "      <td>2022-04-05</td>\n",
       "      <td>09:35:00</td>\n",
       "      <td>09:50:00</td>\n",
       "      <td>Sandstorms</td>\n",
       "      <td>Low</td>\n",
       "      <td>van</td>\n",
       "      <td>Metropolitian</td>\n",
       "      <td>100</td>\n",
       "      <td>Clothing</td>\n",
       "    </tr>\n",
       "    <tr>\n",
       "      <th>43731</th>\n",
       "      <td>cuqm879666070</td>\n",
       "      <td>30</td>\n",
       "      <td>4.2</td>\n",
       "      <td>26.469003</td>\n",
       "      <td>80.316344</td>\n",
       "      <td>26.539003</td>\n",
       "      <td>80.386344</td>\n",
       "      <td>2022-02-14</td>\n",
       "      <td>18:10:00</td>\n",
       "      <td>18:25:00</td>\n",
       "      <td>Cloudy</td>\n",
       "      <td>Medium</td>\n",
       "      <td>motorcycle</td>\n",
       "      <td>Metropolitian</td>\n",
       "      <td>210</td>\n",
       "      <td>Apparel</td>\n",
       "    </tr>\n",
       "    <tr>\n",
       "      <th>43732</th>\n",
       "      <td>uftb261665932</td>\n",
       "      <td>28</td>\n",
       "      <td>4.9</td>\n",
       "      <td>13.029198</td>\n",
       "      <td>77.570997</td>\n",
       "      <td>13.059198</td>\n",
       "      <td>77.600997</td>\n",
       "      <td>2022-03-30</td>\n",
       "      <td>21:55:00</td>\n",
       "      <td>22:00:00</td>\n",
       "      <td>Sandstorms</td>\n",
       "      <td>Jam</td>\n",
       "      <td>scooter</td>\n",
       "      <td>Metropolitian</td>\n",
       "      <td>145</td>\n",
       "      <td>Toys</td>\n",
       "    </tr>\n",
       "    <tr>\n",
       "      <th>43733</th>\n",
       "      <td>gcxb277393192</td>\n",
       "      <td>35</td>\n",
       "      <td>4.2</td>\n",
       "      <td>23.371292</td>\n",
       "      <td>85.327872</td>\n",
       "      <td>23.481292</td>\n",
       "      <td>85.437872</td>\n",
       "      <td>2022-03-08</td>\n",
       "      <td>21:45:00</td>\n",
       "      <td>21:55:00</td>\n",
       "      <td>Windy</td>\n",
       "      <td>Jam</td>\n",
       "      <td>motorcycle</td>\n",
       "      <td>Metropolitian</td>\n",
       "      <td>165</td>\n",
       "      <td>Sports</td>\n",
       "    </tr>\n",
       "    <tr>\n",
       "      <th>43734</th>\n",
       "      <td>jlxf819993117</td>\n",
       "      <td>30</td>\n",
       "      <td>4.8</td>\n",
       "      <td>26.902328</td>\n",
       "      <td>75.794257</td>\n",
       "      <td>26.912328</td>\n",
       "      <td>75.804257</td>\n",
       "      <td>2022-03-24</td>\n",
       "      <td>11:35:00</td>\n",
       "      <td>11:45:00</td>\n",
       "      <td>Windy</td>\n",
       "      <td>High</td>\n",
       "      <td>motorcycle</td>\n",
       "      <td>Metropolitian</td>\n",
       "      <td>160</td>\n",
       "      <td>Home</td>\n",
       "    </tr>\n",
       "    <tr>\n",
       "      <th>43735</th>\n",
       "      <td>aevx342135787</td>\n",
       "      <td>21</td>\n",
       "      <td>4.6</td>\n",
       "      <td>0.000000</td>\n",
       "      <td>0.000000</td>\n",
       "      <td>0.070000</td>\n",
       "      <td>0.070000</td>\n",
       "      <td>2022-02-16</td>\n",
       "      <td>19:55:00</td>\n",
       "      <td>20:10:00</td>\n",
       "      <td>Windy</td>\n",
       "      <td>Jam</td>\n",
       "      <td>motorcycle</td>\n",
       "      <td>Metropolitian</td>\n",
       "      <td>180</td>\n",
       "      <td>Jewelry</td>\n",
       "    </tr>\n",
       "    <tr>\n",
       "      <th>43736</th>\n",
       "      <td>xnek760674819</td>\n",
       "      <td>30</td>\n",
       "      <td>4.9</td>\n",
       "      <td>13.022394</td>\n",
       "      <td>80.242439</td>\n",
       "      <td>13.052394</td>\n",
       "      <td>80.272439</td>\n",
       "      <td>2022-03-11</td>\n",
       "      <td>23:50:00</td>\n",
       "      <td>00:05:00</td>\n",
       "      <td>Cloudy</td>\n",
       "      <td>Low</td>\n",
       "      <td>scooter</td>\n",
       "      <td>Metropolitian</td>\n",
       "      <td>80</td>\n",
       "      <td>Home</td>\n",
       "    </tr>\n",
       "    <tr>\n",
       "      <th>43737</th>\n",
       "      <td>cynl434665991</td>\n",
       "      <td>20</td>\n",
       "      <td>4.7</td>\n",
       "      <td>11.001753</td>\n",
       "      <td>76.986241</td>\n",
       "      <td>11.041753</td>\n",
       "      <td>77.026241</td>\n",
       "      <td>2022-03-07</td>\n",
       "      <td>13:35:00</td>\n",
       "      <td>13:40:00</td>\n",
       "      <td>Cloudy</td>\n",
       "      <td>High</td>\n",
       "      <td>motorcycle</td>\n",
       "      <td>Metropolitian</td>\n",
       "      <td>130</td>\n",
       "      <td>Kitchen</td>\n",
       "    </tr>\n",
       "    <tr>\n",
       "      <th>43738</th>\n",
       "      <td>nsyz997960170</td>\n",
       "      <td>23</td>\n",
       "      <td>4.9</td>\n",
       "      <td>23.351058</td>\n",
       "      <td>85.325731</td>\n",
       "      <td>23.431058</td>\n",
       "      <td>85.405731</td>\n",
       "      <td>2022-03-02</td>\n",
       "      <td>17:10:00</td>\n",
       "      <td>17:15:00</td>\n",
       "      <td>Fog</td>\n",
       "      <td>Medium</td>\n",
       "      <td>scooter</td>\n",
       "      <td>Metropolitian</td>\n",
       "      <td>180</td>\n",
       "      <td>Cosmetics</td>\n",
       "    </tr>\n",
       "  </tbody>\n",
       "</table>\n",
       "</div>"
      ],
      "text/plain": [
       "            Order_ID  Agent_Age  Agent_Rating  Store_Latitude  \\\n",
       "43729  llbw528617620         36           4.8       12.310972   \n",
       "43730  spgc082793916         37           4.8       13.022394   \n",
       "43731  cuqm879666070         30           4.2       26.469003   \n",
       "43732  uftb261665932         28           4.9       13.029198   \n",
       "43733  gcxb277393192         35           4.2       23.371292   \n",
       "43734  jlxf819993117         30           4.8       26.902328   \n",
       "43735  aevx342135787         21           4.6        0.000000   \n",
       "43736  xnek760674819         30           4.9       13.022394   \n",
       "43737  cynl434665991         20           4.7       11.001753   \n",
       "43738  nsyz997960170         23           4.9       23.351058   \n",
       "\n",
       "       Store_Longitude  Drop_Latitude  Drop_Longitude  Order_Date Order_Time  \\\n",
       "43729        76.659264      12.440972       76.789264  2022-03-18   21:10:00   \n",
       "43730        80.242439      13.042394       80.262439  2022-04-05   09:35:00   \n",
       "43731        80.316344      26.539003       80.386344  2022-02-14   18:10:00   \n",
       "43732        77.570997      13.059198       77.600997  2022-03-30   21:55:00   \n",
       "43733        85.327872      23.481292       85.437872  2022-03-08   21:45:00   \n",
       "43734        75.794257      26.912328       75.804257  2022-03-24   11:35:00   \n",
       "43735         0.000000       0.070000        0.070000  2022-02-16   19:55:00   \n",
       "43736        80.242439      13.052394       80.272439  2022-03-11   23:50:00   \n",
       "43737        76.986241      11.041753       77.026241  2022-03-07   13:35:00   \n",
       "43738        85.325731      23.431058       85.405731  2022-03-02   17:10:00   \n",
       "\n",
       "      Pickup_Time     Weather  Traffic      Vehicle            Area  \\\n",
       "43729    21:20:00       Sunny     Jam           van          Urban    \n",
       "43730    09:50:00  Sandstorms     Low           van  Metropolitian    \n",
       "43731    18:25:00      Cloudy  Medium   motorcycle   Metropolitian    \n",
       "43732    22:00:00  Sandstorms     Jam      scooter   Metropolitian    \n",
       "43733    21:55:00       Windy     Jam   motorcycle   Metropolitian    \n",
       "43734    11:45:00       Windy    High   motorcycle   Metropolitian    \n",
       "43735    20:10:00       Windy     Jam   motorcycle   Metropolitian    \n",
       "43736    00:05:00      Cloudy     Low      scooter   Metropolitian    \n",
       "43737    13:40:00      Cloudy    High   motorcycle   Metropolitian    \n",
       "43738    17:15:00         Fog  Medium      scooter   Metropolitian    \n",
       "\n",
       "       Delivery_Time   Category  \n",
       "43729            145     Sports  \n",
       "43730            100   Clothing  \n",
       "43731            210    Apparel  \n",
       "43732            145       Toys  \n",
       "43733            165     Sports  \n",
       "43734            160       Home  \n",
       "43735            180    Jewelry  \n",
       "43736             80       Home  \n",
       "43737            130    Kitchen  \n",
       "43738            180  Cosmetics  "
      ]
     },
     "execution_count": 4,
     "metadata": {},
     "output_type": "execute_result"
    }
   ],
   "source": [
    "# last 10 records of the dataset\n",
    "df.tail(10)"
   ]
  },
  {
   "cell_type": "markdown",
   "id": "b2b74eac",
   "metadata": {},
   "source": [
    "#### Data set information"
   ]
  },
  {
   "cell_type": "code",
   "execution_count": 5,
   "id": "ecbe9b2a",
   "metadata": {},
   "outputs": [
    {
     "name": "stdout",
     "output_type": "stream",
     "text": [
      " dataset row: 43739\n",
      "dataset columns: 16\n"
     ]
    }
   ],
   "source": [
    "print(f' dataset row: {df.shape[0]}\\ndataset columns: {df.shape[1]}')"
   ]
  },
  {
   "cell_type": "code",
   "execution_count": 6,
   "id": "4b401d95",
   "metadata": {},
   "outputs": [
    {
     "name": "stdout",
     "output_type": "stream",
     "text": [
      "<class 'pandas.core.frame.DataFrame'>\n",
      "RangeIndex: 43739 entries, 0 to 43738\n",
      "Data columns (total 16 columns):\n",
      " #   Column           Non-Null Count  Dtype  \n",
      "---  ------           --------------  -----  \n",
      " 0   Order_ID         43739 non-null  object \n",
      " 1   Agent_Age        43739 non-null  int64  \n",
      " 2   Agent_Rating     43685 non-null  float64\n",
      " 3   Store_Latitude   43739 non-null  float64\n",
      " 4   Store_Longitude  43739 non-null  float64\n",
      " 5   Drop_Latitude    43739 non-null  float64\n",
      " 6   Drop_Longitude   43739 non-null  float64\n",
      " 7   Order_Date       43739 non-null  object \n",
      " 8   Order_Time       43739 non-null  object \n",
      " 9   Pickup_Time      43739 non-null  object \n",
      " 10  Weather          43648 non-null  object \n",
      " 11  Traffic          43739 non-null  object \n",
      " 12  Vehicle          43739 non-null  object \n",
      " 13  Area             43739 non-null  object \n",
      " 14  Delivery_Time    43739 non-null  int64  \n",
      " 15  Category         43739 non-null  object \n",
      "dtypes: float64(5), int64(2), object(9)\n",
      "memory usage: 5.3+ MB\n"
     ]
    }
   ],
   "source": [
    "df.info()"
   ]
  },
  {
   "cell_type": "markdown",
   "id": "c2684579",
   "metadata": {},
   "source": [
    "#### finding null values and duplicate values"
   ]
  },
  {
   "cell_type": "code",
   "execution_count": 7,
   "id": "f09acc39",
   "metadata": {},
   "outputs": [
    {
     "data": {
      "text/plain": [
       "Order_ID            0\n",
       "Agent_Age           0\n",
       "Agent_Rating       54\n",
       "Store_Latitude      0\n",
       "Store_Longitude     0\n",
       "Drop_Latitude       0\n",
       "Drop_Longitude      0\n",
       "Order_Date          0\n",
       "Order_Time          0\n",
       "Pickup_Time         0\n",
       "Weather            91\n",
       "Traffic             0\n",
       "Vehicle             0\n",
       "Area                0\n",
       "Delivery_Time       0\n",
       "Category            0\n",
       "dtype: int64"
      ]
     },
     "execution_count": 7,
     "metadata": {},
     "output_type": "execute_result"
    }
   ],
   "source": [
    "df.isnull().sum()"
   ]
  },
  {
   "cell_type": "code",
   "execution_count": 8,
   "id": "0cd7e18e",
   "metadata": {},
   "outputs": [
    {
     "data": {
      "text/html": [
       "<div>\n",
       "<style scoped>\n",
       "    .dataframe tbody tr th:only-of-type {\n",
       "        vertical-align: middle;\n",
       "    }\n",
       "\n",
       "    .dataframe tbody tr th {\n",
       "        vertical-align: top;\n",
       "    }\n",
       "\n",
       "    .dataframe thead th {\n",
       "        text-align: right;\n",
       "    }\n",
       "</style>\n",
       "<table border=\"1\" class=\"dataframe\">\n",
       "  <thead>\n",
       "    <tr style=\"text-align: right;\">\n",
       "      <th></th>\n",
       "      <th>Missing_count</th>\n",
       "      <th>Missing %</th>\n",
       "    </tr>\n",
       "  </thead>\n",
       "  <tbody>\n",
       "    <tr>\n",
       "      <th>Order_ID</th>\n",
       "      <td>0</td>\n",
       "      <td>0.000000</td>\n",
       "    </tr>\n",
       "    <tr>\n",
       "      <th>Agent_Age</th>\n",
       "      <td>0</td>\n",
       "      <td>0.000000</td>\n",
       "    </tr>\n",
       "    <tr>\n",
       "      <th>Agent_Rating</th>\n",
       "      <td>54</td>\n",
       "      <td>0.123460</td>\n",
       "    </tr>\n",
       "    <tr>\n",
       "      <th>Store_Latitude</th>\n",
       "      <td>0</td>\n",
       "      <td>0.000000</td>\n",
       "    </tr>\n",
       "    <tr>\n",
       "      <th>Store_Longitude</th>\n",
       "      <td>0</td>\n",
       "      <td>0.000000</td>\n",
       "    </tr>\n",
       "    <tr>\n",
       "      <th>Drop_Latitude</th>\n",
       "      <td>0</td>\n",
       "      <td>0.000000</td>\n",
       "    </tr>\n",
       "    <tr>\n",
       "      <th>Drop_Longitude</th>\n",
       "      <td>0</td>\n",
       "      <td>0.000000</td>\n",
       "    </tr>\n",
       "    <tr>\n",
       "      <th>Order_Date</th>\n",
       "      <td>0</td>\n",
       "      <td>0.000000</td>\n",
       "    </tr>\n",
       "    <tr>\n",
       "      <th>Order_Time</th>\n",
       "      <td>0</td>\n",
       "      <td>0.000000</td>\n",
       "    </tr>\n",
       "    <tr>\n",
       "      <th>Pickup_Time</th>\n",
       "      <td>0</td>\n",
       "      <td>0.000000</td>\n",
       "    </tr>\n",
       "    <tr>\n",
       "      <th>Weather</th>\n",
       "      <td>91</td>\n",
       "      <td>0.208052</td>\n",
       "    </tr>\n",
       "    <tr>\n",
       "      <th>Traffic</th>\n",
       "      <td>0</td>\n",
       "      <td>0.000000</td>\n",
       "    </tr>\n",
       "    <tr>\n",
       "      <th>Vehicle</th>\n",
       "      <td>0</td>\n",
       "      <td>0.000000</td>\n",
       "    </tr>\n",
       "    <tr>\n",
       "      <th>Area</th>\n",
       "      <td>0</td>\n",
       "      <td>0.000000</td>\n",
       "    </tr>\n",
       "    <tr>\n",
       "      <th>Delivery_Time</th>\n",
       "      <td>0</td>\n",
       "      <td>0.000000</td>\n",
       "    </tr>\n",
       "    <tr>\n",
       "      <th>Category</th>\n",
       "      <td>0</td>\n",
       "      <td>0.000000</td>\n",
       "    </tr>\n",
       "  </tbody>\n",
       "</table>\n",
       "</div>"
      ],
      "text/plain": [
       "                 Missing_count  Missing %\n",
       "Order_ID                     0   0.000000\n",
       "Agent_Age                    0   0.000000\n",
       "Agent_Rating                54   0.123460\n",
       "Store_Latitude               0   0.000000\n",
       "Store_Longitude              0   0.000000\n",
       "Drop_Latitude                0   0.000000\n",
       "Drop_Longitude               0   0.000000\n",
       "Order_Date                   0   0.000000\n",
       "Order_Time                   0   0.000000\n",
       "Pickup_Time                  0   0.000000\n",
       "Weather                     91   0.208052\n",
       "Traffic                      0   0.000000\n",
       "Vehicle                      0   0.000000\n",
       "Area                         0   0.000000\n",
       "Delivery_Time                0   0.000000\n",
       "Category                     0   0.000000"
      ]
     },
     "execution_count": 8,
     "metadata": {},
     "output_type": "execute_result"
    }
   ],
   "source": [
    "def find_Null(df):\n",
    "    missing_summary=pd.DataFrame({\n",
    "    'Missing_count':df.isnull().sum(),\n",
    "    'Missing %':df.isnull().mean()*100})\n",
    "    return missing_summary\n",
    "\n",
    "find_Null(df)"
   ]
  },
  {
   "cell_type": "code",
   "execution_count": 3,
   "id": "35a9f166",
   "metadata": {},
   "outputs": [
    {
     "data": {
      "image/png": "[encoded data removed]",
      "text/plain": [
       "<Figure size 600x400 with 1 Axes>"
      ]
     },
     "metadata": {},
     "output_type": "display_data"
    }
   ],
   "source": [
    "# Visualizing the missing values\n",
    "plt.figure(figsize=(6,4))\n",
    "sns.heatmap(df.isnull(), cbar=False,)\n",
    "plt.title(\"Missing Value Heatmap\")\n",
    "plt.show()"
   ]
  },
  {
   "cell_type": "code",
   "execution_count": 10,
   "id": "f36d9179",
   "metadata": {},
   "outputs": [
    {
     "data": {
      "text/plain": [
       "np.int64(0)"
      ]
     },
     "execution_count": 10,
     "metadata": {},
     "output_type": "execute_result"
    }
   ],
   "source": [
    "# Finding duplicate values\n",
    "df.duplicated().sum()"
   ]
  },
  {
   "cell_type": "markdown",
   "id": "26a37716",
   "metadata": {},
   "source": [
    "### About Dataset\n"
   ]
  },
  {
   "cell_type": "markdown",
   "id": "130273f8",
   "metadata": {},
   "source": [
    "*  dataset contian 43.7k rows along 16 features\n",
    "* Outof 16 column time of order and pickup is in wrong format\n",
    "* Dataset contain no duplicates \n",
    "* Feature like weather (0.2%) and agent_age (0.1) have missing value but they can be eliminate since it is very small number."
   ]
  },
  {
   "cell_type": "markdown",
   "id": "178d8ae1",
   "metadata": {},
   "source": [
    "#### Explore features "
   ]
  },
  {
   "cell_type": "code",
   "execution_count": 11,
   "id": "24543650",
   "metadata": {},
   "outputs": [
    {
     "name": "stdout",
     "output_type": "stream",
     "text": [
      "Index(['Order_ID', 'Agent_Age', 'Agent_Rating', 'Store_Latitude',\n",
      "       'Store_Longitude', 'Drop_Latitude', 'Drop_Longitude', 'Order_Date',\n",
      "       'Order_Time', 'Pickup_Time', 'Weather', 'Traffic', 'Vehicle', 'Area',\n",
      "       'Delivery_Time', 'Category'],\n",
      "      dtype='object')\n"
     ]
    }
   ],
   "source": [
    "# To get columns name \n",
    "print(df.columns)"
   ]
  },
  {
   "cell_type": "code",
   "execution_count": 12,
   "id": "72039df9",
   "metadata": {},
   "outputs": [
    {
     "data": {
      "text/html": [
       "<div>\n",
       "<style scoped>\n",
       "    .dataframe tbody tr th:only-of-type {\n",
       "        vertical-align: middle;\n",
       "    }\n",
       "\n",
       "    .dataframe tbody tr th {\n",
       "        vertical-align: top;\n",
       "    }\n",
       "\n",
       "    .dataframe thead th {\n",
       "        text-align: right;\n",
       "    }\n",
       "</style>\n",
       "<table border=\"1\" class=\"dataframe\">\n",
       "  <thead>\n",
       "    <tr style=\"text-align: right;\">\n",
       "      <th></th>\n",
       "      <th>count</th>\n",
       "      <th>mean</th>\n",
       "      <th>std</th>\n",
       "      <th>min</th>\n",
       "      <th>25%</th>\n",
       "      <th>50%</th>\n",
       "      <th>75%</th>\n",
       "      <th>max</th>\n",
       "    </tr>\n",
       "  </thead>\n",
       "  <tbody>\n",
       "    <tr>\n",
       "      <th>Agent_Age</th>\n",
       "      <td>43739.0</td>\n",
       "      <td>29.567137</td>\n",
       "      <td>5.815155</td>\n",
       "      <td>15.000000</td>\n",
       "      <td>25.000000</td>\n",
       "      <td>30.000000</td>\n",
       "      <td>35.000000</td>\n",
       "      <td>50.000000</td>\n",
       "    </tr>\n",
       "    <tr>\n",
       "      <th>Agent_Rating</th>\n",
       "      <td>43685.0</td>\n",
       "      <td>4.633780</td>\n",
       "      <td>0.334716</td>\n",
       "      <td>1.000000</td>\n",
       "      <td>4.500000</td>\n",
       "      <td>4.700000</td>\n",
       "      <td>4.900000</td>\n",
       "      <td>6.000000</td>\n",
       "    </tr>\n",
       "    <tr>\n",
       "      <th>Store_Latitude</th>\n",
       "      <td>43739.0</td>\n",
       "      <td>17.210960</td>\n",
       "      <td>7.764225</td>\n",
       "      <td>-30.902872</td>\n",
       "      <td>12.933298</td>\n",
       "      <td>18.551440</td>\n",
       "      <td>22.732225</td>\n",
       "      <td>30.914057</td>\n",
       "    </tr>\n",
       "    <tr>\n",
       "      <th>Store_Longitude</th>\n",
       "      <td>43739.0</td>\n",
       "      <td>70.661177</td>\n",
       "      <td>21.475005</td>\n",
       "      <td>-88.366217</td>\n",
       "      <td>73.170283</td>\n",
       "      <td>75.898497</td>\n",
       "      <td>78.045359</td>\n",
       "      <td>88.433452</td>\n",
       "    </tr>\n",
       "    <tr>\n",
       "      <th>Drop_Latitude</th>\n",
       "      <td>43739.0</td>\n",
       "      <td>17.459031</td>\n",
       "      <td>7.342950</td>\n",
       "      <td>0.010000</td>\n",
       "      <td>12.985996</td>\n",
       "      <td>18.633626</td>\n",
       "      <td>22.785049</td>\n",
       "      <td>31.054057</td>\n",
       "    </tr>\n",
       "    <tr>\n",
       "      <th>Drop_Longitude</th>\n",
       "      <td>43739.0</td>\n",
       "      <td>70.821842</td>\n",
       "      <td>21.153148</td>\n",
       "      <td>0.010000</td>\n",
       "      <td>73.280000</td>\n",
       "      <td>76.002574</td>\n",
       "      <td>78.104095</td>\n",
       "      <td>88.563452</td>\n",
       "    </tr>\n",
       "    <tr>\n",
       "      <th>Delivery_Time</th>\n",
       "      <td>43739.0</td>\n",
       "      <td>124.905645</td>\n",
       "      <td>51.915451</td>\n",
       "      <td>10.000000</td>\n",
       "      <td>90.000000</td>\n",
       "      <td>125.000000</td>\n",
       "      <td>160.000000</td>\n",
       "      <td>270.000000</td>\n",
       "    </tr>\n",
       "  </tbody>\n",
       "</table>\n",
       "</div>"
      ],
      "text/plain": [
       "                   count        mean        std        min        25%  \\\n",
       "Agent_Age        43739.0   29.567137   5.815155  15.000000  25.000000   \n",
       "Agent_Rating     43685.0    4.633780   0.334716   1.000000   4.500000   \n",
       "Store_Latitude   43739.0   17.210960   7.764225 -30.902872  12.933298   \n",
       "Store_Longitude  43739.0   70.661177  21.475005 -88.366217  73.170283   \n",
       "Drop_Latitude    43739.0   17.459031   7.342950   0.010000  12.985996   \n",
       "Drop_Longitude   43739.0   70.821842  21.153148   0.010000  73.280000   \n",
       "Delivery_Time    43739.0  124.905645  51.915451  10.000000  90.000000   \n",
       "\n",
       "                        50%         75%         max  \n",
       "Agent_Age         30.000000   35.000000   50.000000  \n",
       "Agent_Rating       4.700000    4.900000    6.000000  \n",
       "Store_Latitude    18.551440   22.732225   30.914057  \n",
       "Store_Longitude   75.898497   78.045359   88.433452  \n",
       "Drop_Latitude     18.633626   22.785049   31.054057  \n",
       "Drop_Longitude    76.002574   78.104095   88.563452  \n",
       "Delivery_Time    125.000000  160.000000  270.000000  "
      ]
     },
     "execution_count": 12,
     "metadata": {},
     "output_type": "execute_result"
    }
   ],
   "source": [
    "# TO view statistical value of features\n",
    "df.describe().T"
   ]
  },
  {
   "cell_type": "code",
   "execution_count": 13,
   "id": "e3be565f",
   "metadata": {},
   "outputs": [
    {
     "data": {
      "text/plain": [
       "Order_ID           43739\n",
       "Agent_Age             22\n",
       "Agent_Rating          28\n",
       "Store_Latitude       521\n",
       "Store_Longitude      415\n",
       "Drop_Latitude       4367\n",
       "Drop_Longitude      4367\n",
       "Order_Date            44\n",
       "Order_Time           177\n",
       "Pickup_Time          193\n",
       "Weather                6\n",
       "Traffic                5\n",
       "Vehicle                4\n",
       "Area                   4\n",
       "Delivery_Time         89\n",
       "Category              16\n",
       "dtype: int64"
      ]
     },
     "execution_count": 13,
     "metadata": {},
     "output_type": "execute_result"
    }
   ],
   "source": [
    "df.nunique()"
   ]
  },
  {
   "cell_type": "markdown",
   "id": "2fd2a2dd",
   "metadata": {},
   "source": [
    "### Variables Description"
   ]
  },
  {
   "cell_type": "markdown",
   "id": "bb969042",
   "metadata": {},
   "source": [
    "* The following dataset contain various categorical features such as Category, Weather,Vehicle, and Area etc.\n",
    "* It also has numerical features such as store Lat,Lan and delivery lat and lan Agent rating.\n",
    "* Apart from that Age of the agent range from 15 to 50 which is wide range.\n",
    "* The approx time to deliver order is 120 min which is ~ 3hours."
   ]
  },
  {
   "cell_type": "markdown",
   "id": "e2b5018b",
   "metadata": {},
   "source": [
    "### Data Wrangling"
   ]
  },
  {
   "cell_type": "code",
   "execution_count": 5,
   "id": "42f592c4",
   "metadata": {},
   "outputs": [],
   "source": [
    "df[['Order_Time','Pickup_Time']]=df[['Order_Time','Pickup_Time']].apply(\n",
    "    lambda col: pd.to_datetime(col, format='%H:%M:%S',errors='coerce')\n",
    "    )\n",
    "# converting time into time format\n",
    "df['Order_Time'] = pd.to_datetime(df['Order_Time']).dt.time\n",
    "df['Pickup_Time'] = pd.to_datetime(df['Pickup_Time']).dt.time"
   ]
  },
  {
   "cell_type": "code",
   "execution_count": 6,
   "id": "f2d2b1ee",
   "metadata": {},
   "outputs": [
    {
     "name": "stdout",
     "output_type": "stream",
     "text": [
      "<class 'pandas.core.frame.DataFrame'>\n",
      "RangeIndex: 43739 entries, 0 to 43738\n",
      "Data columns (total 16 columns):\n",
      " #   Column           Non-Null Count  Dtype         \n",
      "---  ------           --------------  -----         \n",
      " 0   Order_ID         43739 non-null  object        \n",
      " 1   Agent_Age        43739 non-null  int64         \n",
      " 2   Agent_Rating     43685 non-null  float64       \n",
      " 3   Store_Latitude   43739 non-null  float64       \n",
      " 4   Store_Longitude  43739 non-null  float64       \n",
      " 5   Drop_Latitude    43739 non-null  float64       \n",
      " 6   Drop_Longitude   43739 non-null  float64       \n",
      " 7   Order_Date       43739 non-null  datetime64[ns]\n",
      " 8   Order_Time       43648 non-null  object        \n",
      " 9   Pickup_Time      43739 non-null  object        \n",
      " 10  Weather          43648 non-null  object        \n",
      " 11  Traffic          43739 non-null  object        \n",
      " 12  Vehicle          43739 non-null  object        \n",
      " 13  Area             43739 non-null  object        \n",
      " 14  Delivery_Time    43739 non-null  int64         \n",
      " 15  Category         43739 non-null  object        \n",
      "dtypes: datetime64[ns](1), float64(5), int64(2), object(8)\n",
      "memory usage: 5.3+ MB\n"
     ]
    }
   ],
   "source": [
    "df['Order_Date']=pd.to_datetime(df['Order_Date'])\n",
    "df.info()"
   ]
  },
  {
   "cell_type": "code",
   "execution_count": 7,
   "id": "a26f09b9",
   "metadata": {},
   "outputs": [
    {
     "data": {
      "text/plain": [
       "Order_ID                 pbmy587069805\n",
       "Agent_Age                           35\n",
       "Agent_Rating                       4.7\n",
       "Store_Latitude                13.02978\n",
       "Store_Longitude              80.208812\n",
       "Drop_Latitude                 13.10978\n",
       "Drop_Longitude               80.288812\n",
       "Order_Date         2022-04-06 00:00:00\n",
       "Order_Time                    20:00:00\n",
       "Pickup_Time                   20:05:00\n",
       "Weather                          Sunny\n",
       "Traffic                           Jam \n",
       "Vehicle                            van\n",
       "Area                    Metropolitian \n",
       "Delivery_Time                      135\n",
       "Category                       Apparel\n",
       "Name: 189, dtype: object"
      ]
     },
     "execution_count": 7,
     "metadata": {},
     "output_type": "execute_result"
    }
   ],
   "source": [
    "df.iloc[189]"
   ]
  },
  {
   "cell_type": "code",
   "execution_count": 8,
   "id": "ffbe9c6b",
   "metadata": {},
   "outputs": [
    {
     "name": "stdout",
     "output_type": "stream",
     "text": [
      "<class 'pandas.core.frame.DataFrame'>\n",
      "Index: 43594 entries, 0 to 43738\n",
      "Data columns (total 16 columns):\n",
      " #   Column           Non-Null Count  Dtype         \n",
      "---  ------           --------------  -----         \n",
      " 0   Order_ID         43594 non-null  object        \n",
      " 1   Agent_Age        43594 non-null  int64         \n",
      " 2   Agent_Rating     43594 non-null  float64       \n",
      " 3   Store_Latitude   43594 non-null  float64       \n",
      " 4   Store_Longitude  43594 non-null  float64       \n",
      " 5   Drop_Latitude    43594 non-null  float64       \n",
      " 6   Drop_Longitude   43594 non-null  float64       \n",
      " 7   Order_Date       43594 non-null  datetime64[ns]\n",
      " 8   Order_Time       43594 non-null  object        \n",
      " 9   Pickup_Time      43594 non-null  object        \n",
      " 10  Weather          43594 non-null  object        \n",
      " 11  Traffic          43594 non-null  object        \n",
      " 12  Vehicle          43594 non-null  object        \n",
      " 13  Area             43594 non-null  object        \n",
      " 14  Delivery_Time    43594 non-null  int64         \n",
      " 15  Category         43594 non-null  object        \n",
      "dtypes: datetime64[ns](1), float64(5), int64(2), object(8)\n",
      "memory usage: 5.7+ MB\n"
     ]
    }
   ],
   "source": [
    "# drop the null values.\n",
    "df.dropna(inplace=True)\n",
    "df.info()"
   ]
  },
  {
   "cell_type": "markdown",
   "id": "87c42f0f",
   "metadata": {},
   "source": [
    "### Visualize data"
   ]
  },
  {
   "cell_type": "markdown",
   "id": "c646c2cd",
   "metadata": {},
   "source": [
    "### Chart 1"
   ]
  },
  {
   "cell_type": "code",
   "execution_count": 9,
   "id": "7c50bc9d",
   "metadata": {},
   "outputs": [
    {
     "data": {
      "image/png": "[encoded data removed]",
      "text/plain": [
       "<Figure size 640x480 with 1 Axes>"
      ]
     },
     "metadata": {},
     "output_type": "display_data"
    }
   ],
   "source": [
    "plt.Figure(figsize=(10,6))\n",
    "sns.histplot(df['Delivery_Time'],bins=40,kde=True,color='#50589C')\n",
    "plt.title('Delivery Time distribution')\n",
    "plt.xlabel('Time (min)')\n",
    "plt.ylabel('Frequency')\n",
    "plt.show()"
   ]
  },
  {
   "cell_type": "markdown",
   "id": "2d4d5fca",
   "metadata": {},
   "source": [
    "#### 1. Why this Plot?<br>\n",
    "Ans- The following plot help to understand distribution of the traget feature if the dataset. "
   ]
  },
  {
   "cell_type": "markdown",
   "id": "13f869e7",
   "metadata": {},
   "source": [
    "#### 2. Insight gain from the plot<br>\n",
    "Ans- The plot slightly left skewed indicating that most of the time ranges from 100 to 150 min "
   ]
  },
  {
   "cell_type": "markdown",
   "id": "479fbddd",
   "metadata": {},
   "source": [
    "### Chart 2"
   ]
  },
  {
   "cell_type": "code",
   "execution_count": 18,
   "id": "ca014497",
   "metadata": {},
   "outputs": [
    {
     "data": {
      "image/png": "[encoded data removed]",
      "text/plain": [
       "<Figure size 640x480 with 1 Axes>"
      ]
     },
     "metadata": {},
     "output_type": "display_data"
    }
   ],
   "source": [
    "plt.figure()\n",
    "sns.countplot(x='Traffic', data=df, order=df['Traffic'].value_counts().index,color='#50589C')\n",
    "plt.title(\"Traffic Distribution\")\n",
    "plt.xlabel(\"Traffic Level\")\n",
    "plt.ylabel(\"Count\")\n",
    "plt.show()"
   ]
  },
  {
   "cell_type": "markdown",
   "id": "db0f74ef",
   "metadata": {},
   "source": [
    "#### 1. Why this plot?<br>\n",
    "Ans- The following plot help to understand distribution of data among different traffic type."
   ]
  },
  {
   "cell_type": "markdown",
   "id": "e987e4a0",
   "metadata": {},
   "source": [
    "#### 2.Insight gain from the plot?<br>\n",
    "Ans- Most fo the order was delivered during low traffic compared to high traffic."
   ]
  },
  {
   "cell_type": "markdown",
   "id": "44d7abad",
   "metadata": {},
   "source": [
    "### Chart 3"
   ]
  },
  {
   "cell_type": "code",
   "execution_count": null,
   "id": "472cba11",
   "metadata": {},
   "outputs": [
    {
     "data": {
      "image/png": "[encoded data removed]",
      "text/plain": [
       "<Figure size 1500x1000 with 15 Axes>"
      ]
     },
     "metadata": {},
     "output_type": "display_data"
    }
   ],
   "source": [
    "\n",
    "df.plot(kind=\"box\",subplots=True,layout=(5,3),figsize=(15,10))\n",
    "plt.tight_layout()\n",
    "plt.show()\n"
   ]
  },
  {
   "cell_type": "markdown",
   "id": "299e74aa",
   "metadata": {},
   "source": [
    "#### 1. Why this plot?<br>\n",
    "Ans- The following plot help to understand presence of the outlier within the dataset."
   ]
  },
  {
   "cell_type": "markdown",
   "id": "0d1de1af",
   "metadata": {},
   "source": [
    "#### 2.Insight gain from the plot?<br>\n",
    "Ans- Plot show presence of the outlier within various feature but most;y higly varying outlier is present in the rating of the agent."
   ]
  },
  {
   "cell_type": "markdown",
   "id": "70a0d3aa",
   "metadata": {},
   "source": [
    "### Chart 4"
   ]
  },
  {
   "cell_type": "code",
   "execution_count": 40,
   "id": "8b0f2e6b",
   "metadata": {},
   "outputs": [
    {
     "data": {
      "image/png": "[encoded data removed]",
      "text/plain": [
       "<Figure size 640x480 with 1 Axes>"
      ]
     },
     "metadata": {},
     "output_type": "display_data"
    }
   ],
   "source": [
    "plt.figure()\n",
    "sns.boxplot(x='Traffic', y='Delivery_Time', data=df, order=df['Traffic'].value_counts().index)\n",
    "plt.title(\"Delivery Time across Traffic Levels\")\n",
    "plt.xlabel(\"Traffic Level\")\n",
    "plt.ylabel(\"Delivery Time (minutes)\")\n",
    "plt.show()"
   ]
  },
  {
   "cell_type": "markdown",
   "id": "d24e65eb",
   "metadata": {},
   "source": [
    "#### 1. Why this plot?<br>\n",
    "Ans- The following plot help to understand distribution of data among different traffic type with respect ot time taken."
   ]
  },
  {
   "cell_type": "markdown",
   "id": "178f4b8f",
   "metadata": {},
   "source": [
    "#### 2.Insight gain from the plot?<br>\n",
    "Ans- The boxplot helps to understand the data distribution as per the traffic and from this is observed that mostly whe traffic is jam the time taken to delivery is highly variable."
   ]
  },
  {
   "cell_type": "code",
   "execution_count": 10,
   "id": "540c1468",
   "metadata": {},
   "outputs": [],
   "source": [
    "# converting the lattitude and longitude\n",
    "from math import radians, sin, cos, sqrt, atan2\n",
    "def haversine(lat1, lon1, lat2, lon2):\n",
    "    R = 6371.0\n",
    "    lat1, lon1, lat2, lon2 = map(radians, [lat1, lon1, lat2, lon2])\n",
    "    dlon = lon2 - lon1\n",
    "    dlat = lat2 - lat1\n",
    "    a = sin(dlat/2)**2 + cos(lat1)*cos(lat2)*sin(dlon/2)**2\n",
    "    c = 2*atan2(sqrt(a), sqrt(1-a))\n",
    "    return R * c\n",
    "\n",
    "df['Distance_km'] = df.apply(lambda row: haversine(row['Store_Latitude'], row['Store_Longitude'],\n",
    "                                                   row['Drop_Latitude'], row['Drop_Longitude']), axis=1)"
   ]
  },
  {
   "cell_type": "code",
   "execution_count": 11,
   "id": "56a7a67d",
   "metadata": {},
   "outputs": [
    {
     "data": {
      "text/plain": [
       "Order_ID                 dkgi875489081\n",
       "Agent_Age                           26\n",
       "Agent_Rating                       4.9\n",
       "Store_Latitude               21.149834\n",
       "Store_Longitude              72.778666\n",
       "Drop_Latitude                21.209834\n",
       "Drop_Longitude               72.838666\n",
       "Order_Date         2022-03-13 00:00:00\n",
       "Order_Time                    17:15:00\n",
       "Pickup_Time                   17:20:00\n",
       "Weather                          Windy\n",
       "Traffic                        Medium \n",
       "Vehicle                       scooter \n",
       "Area                    Metropolitian \n",
       "Delivery_Time                      130\n",
       "Category                   Electronics\n",
       "Distance_km                   9.122101\n",
       "Name: 246, dtype: object"
      ]
     },
     "execution_count": 11,
     "metadata": {},
     "output_type": "execute_result"
    }
   ],
   "source": [
    "df.iloc[245]"
   ]
  },
  {
   "cell_type": "code",
   "execution_count": 12,
   "id": "42bb3907",
   "metadata": {},
   "outputs": [
    {
     "data": {
      "image/png": "[encoded data removed]",
      "text/plain": [
       "<Figure size 640x480 with 1 Axes>"
      ]
     },
     "metadata": {},
     "output_type": "display_data"
    }
   ],
   "source": [
    "# Scatter plot: Distance vs Delivery Time\n",
    "plt.figure()\n",
    "sns.scatterplot(x='Distance_km', y='Delivery_Time', alpha=0.4, data=df)\n",
    "plt.title(\"Distance vs Delivery Time\")\n",
    "plt.xlabel(\"Distance (km)\")\n",
    "plt.ylabel(\"Delivery Time (minutes)\")\n",
    "plt.show()"
   ]
  },
  {
   "cell_type": "markdown",
   "id": "a8713118",
   "metadata": {},
   "source": [
    "#### 1. Why this plot?<br>\n",
    "Ans- The following plot help to understand relation amogng the distance of delivery point and time to reach there."
   ]
  },
  {
   "cell_type": "markdown",
   "id": "3d5ae2be",
   "metadata": {},
   "source": [
    "#### 2.Insight gain from the plot?<br>\n",
    "Ans-Most of the delivery order are under 1000 km very few are present above 1000km ."
   ]
  },
  {
   "cell_type": "code",
   "execution_count": 13,
   "id": "880fb16b",
   "metadata": {},
   "outputs": [
    {
     "data": {
      "image/png": "[encoded data removed]",
      "text/plain": [
       "<Figure size 640x480 with 1 Axes>"
      ]
     },
     "metadata": {},
     "output_type": "display_data"
    }
   ],
   "source": [
    "# Time difference between pickup \n",
    "# Create full datetime\n",
    "df['Order_Time_Full'] = df.apply(lambda row: pd.Timestamp.combine(row['Order_Date'], row['Order_Time']), axis=1)\n",
    "df['Pickup_Time_Full'] = df.apply(lambda row: pd.Timestamp.combine(row['Order_Date'], row['Pickup_Time']), axis=1)\n",
    "# If pickup earlier than order, add 1 day\n",
    "df.loc[df['Pickup_Time_Full'] < df['Order_Time_Full'], 'Pickup_Time_Full'] += pd.Timedelta(days=1)\n",
    "\n",
    "df['Time_to_Pickup_Min'] = (df['Pickup_Time_Full'] - df['Order_Time_Full']).dt.total_seconds() / 60\n",
    "\n",
    "# Distribution of Time to Pickup\n",
    "sns.histplot(df['Time_to_Pickup_Min'], bins=40, kde=True)\n",
    "plt.title(\"Distribution of Time to Pickup (minutes)\")\n",
    "plt.xlabel(\"Time to Pickup (minutes)\")\n",
    "plt.ylabel(\"Frequency\")\n",
    "plt.show()"
   ]
  },
  {
   "cell_type": "markdown",
   "id": "81d35467",
   "metadata": {},
   "source": [
    "#### 1. Why this plot?<br>\n",
    "Ans- The following plot help to understand Time taken to pickup the order by agent."
   ]
  },
  {
   "cell_type": "markdown",
   "id": "1cad99fd",
   "metadata": {},
   "source": [
    "#### 2.Insight gain from the plot?<br>\n",
    "Ans- So the time ranges from 5 to 15 min where agent pickup the order which is highly great."
   ]
  },
  {
   "cell_type": "code",
   "execution_count": 15,
   "id": "c3cfcfed",
   "metadata": {},
   "outputs": [
    {
     "data": {
      "image/png": "[encoded data removed]",
      "text/plain": [
       "<Figure size 640x480 with 1 Axes>"
      ]
     },
     "metadata": {},
     "output_type": "display_data"
    }
   ],
   "source": [
    "# Facet Boxplot: Traffic vs Delivery Time split by Weather\n",
    "plt.figure()\n",
    "sns.boxplot(x=\"Traffic\", y=\"Delivery_Time\", hue=\"Weather\", data=df)\n",
    "plt.title(\"Impact of Traffic & Weather on Delivery Time\")\n",
    "plt.xlabel(\"Traffic\")\n",
    "plt.ylabel(\"Delivery Time (minutes)\")\n",
    "plt.legend(title=\"Weather\", bbox_to_anchor=(1.05, 1), loc='upper left')\n",
    "plt.show()"
   ]
  },
  {
   "cell_type": "markdown",
   "id": "82b8f54a",
   "metadata": {},
   "source": [
    "#### 1. Why this plot?<br>\n",
    "Ans- The following plot help to understand impact of the traffic and weather on delivery time."
   ]
  },
  {
   "cell_type": "markdown",
   "id": "786a0a28",
   "metadata": {},
   "source": [
    "#### 2.Insight gain from the plot?<br>\n",
    "Ans- This plot helps to understand that data is equally distributed when traffic is low in all weather whereas as in othe time it highly vary."
   ]
  },
  {
   "cell_type": "code",
   "execution_count": 16,
   "id": "a66f1ebd",
   "metadata": {},
   "outputs": [
    {
     "data": {
      "image/png": "[encoded data removed]",
      "text/plain": [
       "<Figure size 640x480 with 2 Axes>"
      ]
     },
     "metadata": {},
     "output_type": "display_data"
    }
   ],
   "source": [
    "plt.figure()\n",
    "numeric_cols = ['Agent_Age', 'Agent_Rating',  'Delivery_Time','Distance_km']\n",
    "corr = df[numeric_cols].corr()\n",
    "sns.heatmap(corr, annot=True, cmap=\"coolwarm\", fmt=\".2f\")\n",
    "plt.title(\"Correlation Heatmap (Numeric Features)\")\n",
    "plt.show()"
   ]
  },
  {
   "cell_type": "markdown",
   "id": "829ab27b",
   "metadata": {},
   "source": [
    "#### 1. Why this plot?<br>\n",
    "Ans- The following plot help to understand multicollinearity among features."
   ]
  },
  {
   "cell_type": "markdown",
   "id": "b5d93b9e",
   "metadata": {},
   "source": [
    "#### 2.Insight gain from the plot?<br>\n",
    "Ans- Since there is no strong co-realation among features hence there is no multicollinearity exist."
   ]
  },
  {
   "cell_type": "code",
   "execution_count": 47,
   "id": "fc3b31bd",
   "metadata": {},
   "outputs": [
    {
     "data": {
      "text/html": [
       "<div>\n",
       "<style scoped>\n",
       "    .dataframe tbody tr th:only-of-type {\n",
       "        vertical-align: middle;\n",
       "    }\n",
       "\n",
       "    .dataframe tbody tr th {\n",
       "        vertical-align: top;\n",
       "    }\n",
       "\n",
       "    .dataframe thead th {\n",
       "        text-align: right;\n",
       "    }\n",
       "</style>\n",
       "<table border=\"1\" class=\"dataframe\">\n",
       "  <thead>\n",
       "    <tr style=\"text-align: right;\">\n",
       "      <th></th>\n",
       "      <th>Order_ID</th>\n",
       "      <th>Agent_Age</th>\n",
       "      <th>Agent_Rating</th>\n",
       "      <th>Store_Latitude</th>\n",
       "      <th>Store_Longitude</th>\n",
       "      <th>Drop_Latitude</th>\n",
       "      <th>Drop_Longitude</th>\n",
       "      <th>Order_Date</th>\n",
       "      <th>Order_Time</th>\n",
       "      <th>Pickup_Time</th>\n",
       "      <th>Weather</th>\n",
       "      <th>Traffic</th>\n",
       "      <th>Vehicle</th>\n",
       "      <th>Area</th>\n",
       "      <th>Delivery_Time</th>\n",
       "      <th>Category</th>\n",
       "      <th>Distance_km</th>\n",
       "      <th>Time_to_Pickup_Min</th>\n",
       "      <th>Order_Time_Full</th>\n",
       "      <th>Pickup_Time_Full</th>\n",
       "    </tr>\n",
       "  </thead>\n",
       "  <tbody>\n",
       "    <tr>\n",
       "      <th>0</th>\n",
       "      <td>ialx566343618</td>\n",
       "      <td>37</td>\n",
       "      <td>4.9</td>\n",
       "      <td>22.745049</td>\n",
       "      <td>75.892471</td>\n",
       "      <td>22.765049</td>\n",
       "      <td>75.912471</td>\n",
       "      <td>2022-03-19</td>\n",
       "      <td>11:30:00</td>\n",
       "      <td>11:45:00</td>\n",
       "      <td>Sunny</td>\n",
       "      <td>High</td>\n",
       "      <td>motorcycle</td>\n",
       "      <td>Urban</td>\n",
       "      <td>120</td>\n",
       "      <td>Clothing</td>\n",
       "      <td>3.025149</td>\n",
       "      <td>15.0</td>\n",
       "      <td>2022-03-19 11:30:00</td>\n",
       "      <td>2022-03-19 11:45:00</td>\n",
       "    </tr>\n",
       "    <tr>\n",
       "      <th>1</th>\n",
       "      <td>akqg208421122</td>\n",
       "      <td>34</td>\n",
       "      <td>4.5</td>\n",
       "      <td>12.913041</td>\n",
       "      <td>77.683237</td>\n",
       "      <td>13.043041</td>\n",
       "      <td>77.813237</td>\n",
       "      <td>2022-03-25</td>\n",
       "      <td>19:45:00</td>\n",
       "      <td>19:50:00</td>\n",
       "      <td>Stormy</td>\n",
       "      <td>Jam</td>\n",
       "      <td>scooter</td>\n",
       "      <td>Metropolitian</td>\n",
       "      <td>165</td>\n",
       "      <td>Electronics</td>\n",
       "      <td>20.183530</td>\n",
       "      <td>5.0</td>\n",
       "      <td>2022-03-25 19:45:00</td>\n",
       "      <td>2022-03-25 19:50:00</td>\n",
       "    </tr>\n",
       "    <tr>\n",
       "      <th>2</th>\n",
       "      <td>njpu434582536</td>\n",
       "      <td>23</td>\n",
       "      <td>4.4</td>\n",
       "      <td>12.914264</td>\n",
       "      <td>77.678400</td>\n",
       "      <td>12.924264</td>\n",
       "      <td>77.688400</td>\n",
       "      <td>2022-03-19</td>\n",
       "      <td>08:30:00</td>\n",
       "      <td>08:45:00</td>\n",
       "      <td>Sandstorms</td>\n",
       "      <td>Low</td>\n",
       "      <td>motorcycle</td>\n",
       "      <td>Urban</td>\n",
       "      <td>130</td>\n",
       "      <td>Sports</td>\n",
       "      <td>1.552758</td>\n",
       "      <td>15.0</td>\n",
       "      <td>2022-03-19 08:30:00</td>\n",
       "      <td>2022-03-19 08:45:00</td>\n",
       "    </tr>\n",
       "    <tr>\n",
       "      <th>3</th>\n",
       "      <td>rjto796129700</td>\n",
       "      <td>38</td>\n",
       "      <td>4.7</td>\n",
       "      <td>11.003669</td>\n",
       "      <td>76.976494</td>\n",
       "      <td>11.053669</td>\n",
       "      <td>77.026494</td>\n",
       "      <td>2022-04-05</td>\n",
       "      <td>18:00:00</td>\n",
       "      <td>18:10:00</td>\n",
       "      <td>Sunny</td>\n",
       "      <td>Medium</td>\n",
       "      <td>motorcycle</td>\n",
       "      <td>Metropolitian</td>\n",
       "      <td>105</td>\n",
       "      <td>Cosmetics</td>\n",
       "      <td>7.790401</td>\n",
       "      <td>10.0</td>\n",
       "      <td>2022-04-05 18:00:00</td>\n",
       "      <td>2022-04-05 18:10:00</td>\n",
       "    </tr>\n",
       "  </tbody>\n",
       "</table>\n",
       "</div>"
      ],
      "text/plain": [
       "        Order_ID  Agent_Age  Agent_Rating  Store_Latitude  Store_Longitude  \\\n",
       "0  ialx566343618         37           4.9       22.745049        75.892471   \n",
       "1  akqg208421122         34           4.5       12.913041        77.683237   \n",
       "2  njpu434582536         23           4.4       12.914264        77.678400   \n",
       "3  rjto796129700         38           4.7       11.003669        76.976494   \n",
       "\n",
       "   Drop_Latitude  Drop_Longitude Order_Date Order_Time Pickup_Time  \\\n",
       "0      22.765049       75.912471 2022-03-19   11:30:00    11:45:00   \n",
       "1      13.043041       77.813237 2022-03-25   19:45:00    19:50:00   \n",
       "2      12.924264       77.688400 2022-03-19   08:30:00    08:45:00   \n",
       "3      11.053669       77.026494 2022-04-05   18:00:00    18:10:00   \n",
       "\n",
       "      Weather  Traffic      Vehicle            Area  Delivery_Time  \\\n",
       "0       Sunny    High   motorcycle           Urban             120   \n",
       "1      Stormy     Jam      scooter   Metropolitian             165   \n",
       "2  Sandstorms     Low   motorcycle           Urban             130   \n",
       "3       Sunny  Medium   motorcycle   Metropolitian             105   \n",
       "\n",
       "      Category  Distance_km  Time_to_Pickup_Min     Order_Time_Full  \\\n",
       "0     Clothing     3.025149                15.0 2022-03-19 11:30:00   \n",
       "1  Electronics    20.183530                 5.0 2022-03-25 19:45:00   \n",
       "2       Sports     1.552758                15.0 2022-03-19 08:30:00   \n",
       "3    Cosmetics     7.790401                10.0 2022-04-05 18:00:00   \n",
       "\n",
       "     Pickup_Time_Full  \n",
       "0 2022-03-19 11:45:00  \n",
       "1 2022-03-25 19:50:00  \n",
       "2 2022-03-19 08:45:00  \n",
       "3 2022-04-05 18:10:00  "
      ]
     },
     "execution_count": 47,
     "metadata": {},
     "output_type": "execute_result"
    }
   ],
   "source": [
    "df.head(4)"
   ]
  },
  {
   "cell_type": "markdown",
   "id": "db650998",
   "metadata": {},
   "source": [
    "## Hypothesis testing\n"
   ]
  },
  {
   "cell_type": "markdown",
   "id": "ef8bf2d5",
   "metadata": {},
   "source": [
    "#### Hypothesis 1\n",
    "\n",
    "* H₀ (null): Traffic has no effect on Delivery_Time.\n",
    "\n",
    "* H₁ (alternative): Traffic affects Delivery_Time.\n",
    "\n",
    "#### Test: ANOVA"
   ]
  },
  {
   "cell_type": "code",
   "execution_count": 54,
   "id": "91619213",
   "metadata": {},
   "outputs": [
    {
     "name": "stdout",
     "output_type": "stream",
     "text": [
      "ANOVA F-statistic: 2220.299790145671\n",
      "p-value: 0.0\n",
      "Reject H0 -> Traffic has significant effecct on delivery time\n"
     ]
    }
   ],
   "source": [
    "from scipy import stats\n",
    "\n",
    "# Group delivery times by traffic\n",
    "groups = [df[df['Traffic']==cat]['Delivery_Time'] for cat in df['Traffic'].unique()]\n",
    "\n",
    "# Perform ANOVA\n",
    "f_stat, p_val = stats.f_oneway(*groups)\n",
    "print(\"ANOVA F-statistic:\", f_stat)\n",
    "print(\"p-value:\", p_val)\n",
    "\n",
    "if p_val < 0.05:\n",
    "    print(\"Reject H0 -> Traffic has significant effecct on delivery time\")\n",
    "else:\n",
    "    print(\"Fail to reject H0 -> No significant effect of vehicle type on efficiency for short distances\")\n"
   ]
  },
  {
   "cell_type": "markdown",
   "id": "f92258f9",
   "metadata": {},
   "source": [
    "### Hypotheses 2\n",
    "* H₀: Foggy or Sandstorm conditions do not increase delivery time compared to Sunny conditions. \n",
    "* H₁: Foggy or Sandstorm conditions increase delivery time compared to Sunny conditions. \n",
    "\n",
    "#### Test: t-test"
   ]
  },
  {
   "cell_type": "code",
   "execution_count": null,
   "id": "9d9aab5e",
   "metadata": {},
   "outputs": [
    {
     "name": "stdout",
     "output_type": "stream",
     "text": [
      "T-test statistic: 35.68374924761624\n",
      "p-value: 2.2675949505621364e-271\n",
      "Reject H0 -> Extreme weather (Fog/Sandstorms) significantly increases delivery time compared to Sunny.\n"
     ]
    }
   ],
   "source": [
    "# Subset the groups\n",
    "extreme_weather = df[df['Weather'].isin(['Fog', 'Sandstorms'])]['Delivery_Time']\n",
    "sunny_weather = df[df['Weather'] == 'Sunny']['Delivery_Time']\n",
    "\n",
    "# Perform independent two-sample t-test\n",
    "t_stat, p_val = stats.ttest_ind(extreme_weather, sunny_weather, alternative='greater')  \n",
    "\n",
    "print(\"T-test statistic:\", t_stat)\n",
    "print(\"p-value:\", p_val)\n",
    "\n",
    "# Interpretation\n",
    "if p_val < 0.05:\n",
    "    print(\"Reject H0 -> Extreme weather (Fog/Sandstorms) significantly increases delivery time compared to Sunny.\")\n",
    "else:\n",
    "    print(\"Fail to reject H0 -> No significant increase in delivery time for extreme weather.\")"
   ]
  },
  {
   "cell_type": "markdown",
   "id": "14ca708c",
   "metadata": {},
   "source": [
    "### Hypothesis 3\n",
    "* H₀: Motorcycles, cars, and vans have the same efficiency for short-distance deliveries (<5 km). \n",
    "* H₁: Motorcycles are faster than cars and vans for short-distance deliveries. \n",
    "\n",
    "#### Test: one-way ANOVA."
   ]
  },
  {
   "cell_type": "code",
   "execution_count": 56,
   "id": "1b4a276f",
   "metadata": {},
   "outputs": [
    {
     "name": "stdout",
     "output_type": "stream",
     "text": [
      "ANOVA F-statistic: 33.4152836176671\n",
      "p-value: 3.3825230662613016e-15\n",
      "Reject H0 -> Vehicle type significantly affects efficiency for short distances\n"
     ]
    }
   ],
   "source": [
    "# Create efficiency column (km per minute)\n",
    "df['Efficiency'] = df['Distance_km'] / df['Delivery_Time']\n",
    "\n",
    "# Subset for short-distance deliveries (<5 km)\n",
    "short_distance = df[df['Distance_km'] < 5]\n",
    "\n",
    "# Get efficiency groups by Vehicle\n",
    "vehicles = short_distance['Vehicle'].unique()\n",
    "efficiency_groups = [short_distance[short_distance['Vehicle']==v]['Efficiency'] for v in vehicles]\n",
    "\n",
    "# Perform one-way ANOVA\n",
    "f_stat, p_val = stats.f_oneway(*efficiency_groups)\n",
    "print(\"ANOVA F-statistic:\", f_stat)\n",
    "print(\"p-value:\", p_val)\n",
    "\n",
    "# Interpretation\n",
    "if p_val < 0.05:\n",
    "    print(\"Reject H0 -> Vehicle type significantly affects efficiency for short distances\")\n",
    "else:\n",
    "    print(\"Fail to reject H0 -> No significant effect of vehicle type on efficiency for short distances\")\n"
   ]
  },
  {
   "cell_type": "code",
   "execution_count": 1,
   "id": "b74e3877",
   "metadata": {},
   "outputs": [
    {
     "ename": "NameError",
     "evalue": "name 'df' is not defined",
     "output_type": "error",
     "traceback": [
      "\u001b[31m---------------------------------------------------------------------------\u001b[39m",
      "\u001b[31mNameError\u001b[39m                                 Traceback (most recent call last)",
      "\u001b[36mCell\u001b[39m\u001b[36m \u001b[39m\u001b[32mIn[1]\u001b[39m\u001b[32m, line 1\u001b[39m\n\u001b[32m----> \u001b[39m\u001b[32m1\u001b[39m \u001b[43mdf\u001b[49m.to_csv(\u001b[33m'\u001b[39m\u001b[33mEDA_data.csv\u001b[39m\u001b[33m'\u001b[39m)\n",
      "\u001b[31mNameError\u001b[39m: name 'df' is not defined"
     ]
    }
   ],
   "source": [
    "df.to_csv('EDA_data.csv')"
   ]
  },
  {
   "cell_type": "code",
   "execution_count": 3,
   "id": "f38c1375",
   "metadata": {},
   "outputs": [],
   "source": [
    "df=pd.read_csv('EDA_data.csv')"
   ]
  },
  {
   "cell_type": "code",
   "execution_count": 7,
   "id": "270e46b6",
   "metadata": {},
   "outputs": [
    {
     "data": {
      "text/html": [
       "<div>\n",
       "<style scoped>\n",
       "    .dataframe tbody tr th:only-of-type {\n",
       "        vertical-align: middle;\n",
       "    }\n",
       "\n",
       "    .dataframe tbody tr th {\n",
       "        vertical-align: top;\n",
       "    }\n",
       "\n",
       "    .dataframe thead th {\n",
       "        text-align: right;\n",
       "    }\n",
       "</style>\n",
       "<table border=\"1\" class=\"dataframe\">\n",
       "  <thead>\n",
       "    <tr style=\"text-align: right;\">\n",
       "      <th></th>\n",
       "      <th>Unnamed: 0</th>\n",
       "      <th>Order_ID</th>\n",
       "      <th>Agent_Age</th>\n",
       "      <th>Agent_Rating</th>\n",
       "      <th>Store_Latitude</th>\n",
       "      <th>Store_Longitude</th>\n",
       "      <th>Drop_Latitude</th>\n",
       "      <th>Drop_Longitude</th>\n",
       "      <th>Order_Date</th>\n",
       "      <th>Order_Time</th>\n",
       "      <th>Pickup_Time</th>\n",
       "      <th>Weather</th>\n",
       "      <th>Traffic</th>\n",
       "      <th>Vehicle</th>\n",
       "      <th>Area</th>\n",
       "      <th>Delivery_Time</th>\n",
       "      <th>Category</th>\n",
       "      <th>Distance_km</th>\n",
       "      <th>Order_Time_Full</th>\n",
       "      <th>Pickup_Time_Full</th>\n",
       "      <th>Time_to_Pickup_Min</th>\n",
       "    </tr>\n",
       "  </thead>\n",
       "  <tbody>\n",
       "    <tr>\n",
       "      <th>0</th>\n",
       "      <td>0</td>\n",
       "      <td>ialx566343618</td>\n",
       "      <td>37</td>\n",
       "      <td>4.9</td>\n",
       "      <td>22.745049</td>\n",
       "      <td>75.892471</td>\n",
       "      <td>22.765049</td>\n",
       "      <td>75.912471</td>\n",
       "      <td>2022-03-19</td>\n",
       "      <td>11:30:00</td>\n",
       "      <td>11:45:00</td>\n",
       "      <td>Sunny</td>\n",
       "      <td>High</td>\n",
       "      <td>motorcycle</td>\n",
       "      <td>Urban</td>\n",
       "      <td>120</td>\n",
       "      <td>Clothing</td>\n",
       "      <td>3.025149</td>\n",
       "      <td>2022-03-19 11:30:00</td>\n",
       "      <td>2022-03-19 11:45:00</td>\n",
       "      <td>15.0</td>\n",
       "    </tr>\n",
       "    <tr>\n",
       "      <th>1</th>\n",
       "      <td>1</td>\n",
       "      <td>akqg208421122</td>\n",
       "      <td>34</td>\n",
       "      <td>4.5</td>\n",
       "      <td>12.913041</td>\n",
       "      <td>77.683237</td>\n",
       "      <td>13.043041</td>\n",
       "      <td>77.813237</td>\n",
       "      <td>2022-03-25</td>\n",
       "      <td>19:45:00</td>\n",
       "      <td>19:50:00</td>\n",
       "      <td>Stormy</td>\n",
       "      <td>Jam</td>\n",
       "      <td>scooter</td>\n",
       "      <td>Metropolitian</td>\n",
       "      <td>165</td>\n",
       "      <td>Electronics</td>\n",
       "      <td>20.183530</td>\n",
       "      <td>2022-03-25 19:45:00</td>\n",
       "      <td>2022-03-25 19:50:00</td>\n",
       "      <td>5.0</td>\n",
       "    </tr>\n",
       "    <tr>\n",
       "      <th>2</th>\n",
       "      <td>2</td>\n",
       "      <td>njpu434582536</td>\n",
       "      <td>23</td>\n",
       "      <td>4.4</td>\n",
       "      <td>12.914264</td>\n",
       "      <td>77.678400</td>\n",
       "      <td>12.924264</td>\n",
       "      <td>77.688400</td>\n",
       "      <td>2022-03-19</td>\n",
       "      <td>08:30:00</td>\n",
       "      <td>08:45:00</td>\n",
       "      <td>Sandstorms</td>\n",
       "      <td>Low</td>\n",
       "      <td>motorcycle</td>\n",
       "      <td>Urban</td>\n",
       "      <td>130</td>\n",
       "      <td>Sports</td>\n",
       "      <td>1.552758</td>\n",
       "      <td>2022-03-19 08:30:00</td>\n",
       "      <td>2022-03-19 08:45:00</td>\n",
       "      <td>15.0</td>\n",
       "    </tr>\n",
       "  </tbody>\n",
       "</table>\n",
       "</div>"
      ],
      "text/plain": [
       "   Unnamed: 0       Order_ID  Agent_Age  Agent_Rating  Store_Latitude  \\\n",
       "0           0  ialx566343618         37           4.9       22.745049   \n",
       "1           1  akqg208421122         34           4.5       12.913041   \n",
       "2           2  njpu434582536         23           4.4       12.914264   \n",
       "\n",
       "   Store_Longitude  Drop_Latitude  Drop_Longitude  Order_Date Order_Time  \\\n",
       "0        75.892471      22.765049       75.912471  2022-03-19   11:30:00   \n",
       "1        77.683237      13.043041       77.813237  2022-03-25   19:45:00   \n",
       "2        77.678400      12.924264       77.688400  2022-03-19   08:30:00   \n",
       "\n",
       "  Pickup_Time     Weather Traffic      Vehicle            Area  Delivery_Time  \\\n",
       "0    11:45:00       Sunny   High   motorcycle           Urban             120   \n",
       "1    19:50:00      Stormy    Jam      scooter   Metropolitian             165   \n",
       "2    08:45:00  Sandstorms    Low   motorcycle           Urban             130   \n",
       "\n",
       "      Category  Distance_km      Order_Time_Full     Pickup_Time_Full  \\\n",
       "0     Clothing     3.025149  2022-03-19 11:30:00  2022-03-19 11:45:00   \n",
       "1  Electronics    20.183530  2022-03-25 19:45:00  2022-03-25 19:50:00   \n",
       "2       Sports     1.552758  2022-03-19 08:30:00  2022-03-19 08:45:00   \n",
       "\n",
       "   Time_to_Pickup_Min  \n",
       "0                15.0  \n",
       "1                 5.0  \n",
       "2                15.0  "
      ]
     },
     "execution_count": 7,
     "metadata": {},
     "output_type": "execute_result"
    }
   ],
   "source": [
    "df.head(3)"
   ]
  },
  {
   "cell_type": "code",
   "execution_count": 4,
   "id": "6a9a8c00",
   "metadata": {},
   "outputs": [],
   "source": [
    "from sklearn.model_selection import train_test_split\n",
    "from sklearn.preprocessing import OneHotEncoder, StandardScaler\n",
    "from sklearn.compose import ColumnTransformer\n",
    "from sklearn.pipeline import Pipeline\n",
    "\n",
    "# Features and target\n",
    "numeric_features = ['Agent_Age', 'Agent_Rating', 'Distance_km', 'Time_to_Pickup_Min']\n",
    "categorical_features = ['Weather', 'Traffic', 'Vehicle', 'Area', 'Category']\n",
    "\n",
    "X = df[numeric_features + categorical_features]\n",
    "y = df['Delivery_Time']\n",
    "\n",
    "# Preprocessing pipeline\n",
    "numeric_transformer = StandardScaler()\n",
    "categorical_transformer = OneHotEncoder(drop='first', sparse_output=False, handle_unknown='ignore')\n",
    "\n",
    "preprocessor = ColumnTransformer(\n",
    "    transformers=[\n",
    "        ('num', numeric_transformer, numeric_features),\n",
    "        ('cat', categorical_transformer, categorical_features)\n",
    "    ])\n",
    "\n",
    "# Split into train/test\n",
    "X_train, X_test, y_train, y_test = train_test_split(X, y, test_size=0.2, random_state=42)"
   ]
  },
  {
   "cell_type": "code",
   "execution_count": 11,
   "id": "c23ed625",
   "metadata": {},
   "outputs": [],
   "source": [
    "from sklearn.metrics import mean_squared_error, mean_absolute_error, r2_score\n",
    "from sklearn.linear_model import LinearRegression\n",
    "from sklearn.ensemble import RandomForestRegressor\n",
    "from xgboost import XGBRegressor\n",
    "import mlflow\n",
    "import mlflow.sklearn\n",
    "import mlflow.xgboost\n",
    "\n",
    "\n",
    "def eval_metrics(y_true, y_pred):\n",
    "    rmse = mean_squared_error(y_true, y_pred)\n",
    "    mae = mean_absolute_error(y_true, y_pred)\n",
    "    r2 = r2_score(y_true, y_pred)\n",
    "    return rmse, mae, r2\n",
    "\n",
    "def train_and_log_model(model, model_name, params=None):\n",
    "    with mlflow.start_run(run_name=model_name):\n",
    "        # Fit\n",
    "        model.fit(X_train, y_train)\n",
    "        preds = model.predict(X_test)\n",
    "\n",
    "        # Metrics\n",
    "        rmse, mae, r2 = eval_metrics(y_test, preds)\n",
    "\n",
    "        print(f\"{model_name} → RMSE: {rmse:.2f}, MAE: {mae:.2f}, R2: {r2:.3f}\")\n",
    "\n",
    "        # Log params & metrics\n",
    "        if params:\n",
    "            mlflow.log_params(params)\n",
    "        mlflow.log_metric(\"rmse\", rmse)\n",
    "        mlflow.log_metric(\"mae\", mae)\n",
    "        mlflow.log_metric(\"r2\", r2)\n",
    "\n",
    "        # Log model\n",
    "        mlflow.sklearn.log_model(model, model_name)\n",
    "\n",
    "        return model, (rmse, mae, r2)\n"
   ]
  },
  {
   "cell_type": "code",
   "execution_count": 14,
   "id": "3679dea2",
   "metadata": {},
   "outputs": [
    {
     "name": "stderr",
     "output_type": "stream",
     "text": [
      "2025/10/05 16:03:29 WARNING mlflow.models.model: `artifact_path` is deprecated. Please use `name` instead.\n",
      "2025/10/05 16:04:18 WARNING mlflow.models.model: Model logged without a signature and input example. Please set `input_example` parameter when logging the model to auto infer the model signature.\n"
     ]
    }
   ],
   "source": [
    "# Set experiment\n",
    "mlflow.set_experiment(\"Delivery_Time\")\n",
    "\n",
    "# 1. Linear Regression\n",
    "with mlflow.start_run(run_name=\"Linear_Regression\"):\n",
    "    lr_pipeline = Pipeline(steps=[(\"preprocessor\", preprocessor),\n",
    "                                  (\"model\", LinearRegression())])\n",
    "    lr_pipeline.fit(X_train, y_train)\n",
    "    # Predict on train & test\n",
    "    preds_train = lr_pipeline.predict(X_train)\n",
    "    preds_test = lr_pipeline.predict(X_test)\n",
    "\n",
    "    # Evaluate\n",
    "    rmse_train,mae_train, r2_train = eval_metrics(y_train, preds_train)\n",
    "    rmse_test,mae_test, r2_test = eval_metrics(y_test, preds_test)\n",
    "\n",
    "    # Log metrics\n",
    "    mlflow.log_metrics({\n",
    "        \"MAE_train\": mae_train, \"RMSE_train\": rmse_train, \"R2_train\": r2_train,\n",
    "        \"MAE_test\": mae_test, \"RMSE_test\": rmse_test, \"R2_test\": r2_test\n",
    "    })\n",
    "\n",
    "    mlflow.log_param(\"model\", \"LinearRegression\")\n",
    "    mlflow.sklearn.log_model(lr_pipeline, artifact_path='LinearRegression')\n",
    "\n",
    "\n"
   ]
  },
  {
   "cell_type": "code",
   "execution_count": 15,
   "id": "5fa0314c",
   "metadata": {},
   "outputs": [
    {
     "name": "stderr",
     "output_type": "stream",
     "text": [
      "2025/10/05 16:05:19 WARNING mlflow.models.model: Model logged without a signature and input example. Please set `input_example` parameter when logging the model to auto infer the model signature.\n"
     ]
    }
   ],
   "source": [
    "# 2. Random Forest\n",
    "with mlflow.start_run(run_name=\"Random_Forest\"):\n",
    "    rf_pipeline = Pipeline(steps=[(\"preprocessor\", preprocessor),\n",
    "                                  (\"model\", RandomForestRegressor(n_estimators=100, random_state=42))])\n",
    "    rf_pipeline.fit(X_train, y_train)\n",
    "\n",
    "    # Predict on train & test\n",
    "    preds_train = rf_pipeline.predict(X_train)\n",
    "    preds_test = rf_pipeline.predict(X_test)\n",
    "\n",
    "    # Evaluate\n",
    "    mae_train, rmse_train, r2_train = eval_metrics(y_train, preds_train)\n",
    "    mae_test, rmse_test, r2_test = eval_metrics(y_test, preds_test)\n",
    "\n",
    "    # Log metrics\n",
    "    mlflow.log_metrics({\n",
    "        \"MAE_train\": mae_train, \"RMSE_train\": rmse_train, \"R2_train\": r2_train,\n",
    "        \"MAE_test\": mae_test, \"RMSE_test\": rmse_test, \"R2_test\": r2_test\n",
    "    })\n",
    "\n",
    "    mlflow.log_param(\"model\", \"RandomForest\")\n",
    "    mlflow.log_param(\"n_estimators\", 100)\n",
    "    mlflow.sklearn.log_model(rf_pipeline, name='Random Forest')"
   ]
  },
  {
   "cell_type": "code",
   "execution_count": 16,
   "id": "86d91aa4",
   "metadata": {},
   "outputs": [
    {
     "name": "stderr",
     "output_type": "stream",
     "text": [
      "2025/10/05 16:05:47 WARNING mlflow.models.model: `artifact_path` is deprecated. Please use `name` instead.\n",
      "2025/10/05 16:05:55 WARNING mlflow.models.model: Model logged without a signature and input example. Please set `input_example` parameter when logging the model to auto infer the model signature.\n"
     ]
    }
   ],
   "source": [
    "# 3. XGBoost\n",
    "with mlflow.start_run(run_name=\"XGBoost\"):\n",
    "    xgb_pipeline = Pipeline(steps=[\n",
    "        (\"preprocessor\", preprocessor),\n",
    "        (\"model\", XGBRegressor(\n",
    "            n_estimators=200, learning_rate=0.1, max_depth=6, random_state=42\n",
    "        ))\n",
    "    ])\n",
    "    \n",
    "    xgb_pipeline.fit(X_train, y_train)\n",
    "     # Predict on train & test\n",
    "    preds_train = xgb_pipeline.predict(X_train)\n",
    "    preds_test = xgb_pipeline.predict(X_test)\n",
    "\n",
    "    # Evaluate\n",
    "    mae_train, rmse_train, r2_train = eval_metrics(y_train, preds_train)\n",
    "    mae_test, rmse_test, r2_test = eval_metrics(y_test, preds_test)\n",
    "\n",
    "    # Log metrics\n",
    "    mlflow.log_metrics({\n",
    "        \"MAE_train\": mae_train, \"RMSE_train\": rmse_train, \"R2_train\": r2_train,\n",
    "        \"MAE_test\": mae_test, \"RMSE_test\": rmse_test, \"R2_test\": r2_test\n",
    "    })\n",
    "\n",
    "\n",
    "    mlflow.log_param(\"model\", \"XGBoost\")\n",
    "    mlflow.log_param(\"n_estimators\", 200)\n",
    "    mlflow.log_param(\"learning_rate\", 0.1)\n",
    "    mlflow.log_param(\"max_depth\", 6)\n",
    "\n",
    "    mlflow.sklearn.log_model(xgb_pipeline, \"XGboost\")\n"
   ]
  },
  {
   "cell_type": "code",
   "execution_count": 17,
   "id": "19f36c23",
   "metadata": {},
   "outputs": [
    {
     "data": {
      "text/plain": [
       "['xgb_model.joblib']"
      ]
     },
     "execution_count": 17,
     "metadata": {},
     "output_type": "execute_result"
    }
   ],
   "source": [
    "import joblib\n",
    "joblib.dump(xgb_pipeline,'xgb_model.joblib')"
   ]
  },
  {
   "cell_type": "code",
   "execution_count": 19,
   "id": "4fecaed4",
   "metadata": {},
   "outputs": [],
   "source": [
    "xgb_load=joblib.load('xgb_model.joblib')\n",
    "new_test=xgb_load.predict(X_test)"
   ]
  },
  {
   "cell_type": "code",
   "execution_count": null,
   "id": "95afcd01",
   "metadata": {},
   "outputs": [],
   "source": [
    "\n",
    "rmse_test,mae_test, r2_test = eval_metrics(y_test, new_test)\n"
   ]
  },
  {
   "cell_type": "code",
   "execution_count": 21,
   "id": "40ef88f7",
   "metadata": {},
   "outputs": [
    {
     "name": "stdout",
     "output_type": "stream",
     "text": [
      "507.3733215332031 17.54952621459961 0.8070692420005798\n"
     ]
    }
   ],
   "source": [
    "print(rmse_test,mae_test,r2_test)"
   ]
  },
  {
   "cell_type": "markdown",
   "id": "5268bb95",
   "metadata": {},
   "source": [
    "## <b>Conclusion</b>\n"
   ]
  },
  {
   "cell_type": "markdown",
   "id": "8955982c",
   "metadata": {},
   "source": [
    "The following project aim to predcit the time taken to deliver the order to the customer which can help e-commerce business to enchance the customer satisfaction and also predict the operation time for delivery.This considered various aspect of the data and try to predict time.Multiple model was tried among which Xgboost performed best so to deploy it as streamlit app.The final project of this model is to give UI where the various feature is taken as input to predict devliery time based on trained model."
   ]
  },
  {
   "cell_type": "markdown",
   "id": "0c13232c",
   "metadata": {},
   "source": []
  }
 ],
 "metadata": {
  "kernelspec": {
   "display_name": "env",
   "language": "python",
   "name": "python3"
  },
  "language_info": {
   "codemirror_mode": {
    "name": "ipython",
    "version": 3
   },
   "file_extension": ".py",
   "mimetype": "text/x-python",
   "name": "python",
   "nbconvert_exporter": "python",
   "pygments_lexer": "ipython3",
   "version": "3.11.2"
  }
 },
 "nbformat": 4,
 "nbformat_minor": 5
}
